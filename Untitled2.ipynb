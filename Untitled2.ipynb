{
 "cells": [
  {
   "cell_type": "code",
   "execution_count": 1,
   "metadata": {
    "collapsed": false
   },
   "outputs": [
    {
     "name": "stdout",
     "output_type": "stream",
     "text": [
      "ajkshdsjkfhkj\n"
     ]
    }
   ],
   "source": [
    "import os\n",
    "from slackclient import SlackClient\n",
    "\n",
    "botname = 'hopeful_friend'\n",
    "print(os.environ.get('SLACK_BOT_TOKEN'))\n",
    "slack_client = SlackClient(os.environ.get('SLACK_BOT_TOKEN'))\n",
    "\n",
    "api_call = slack_client.api_call(\"users.list\")\n",
    "if api_call.get('ok'):\n",
    "   print('ok')\n",
    "   # retrieve all users so we can find our bot\n",
    "   users = api_call.get('members')\n",
    "   for user in users:\n",
    "       if 'name' in user and user.get('name') == botname:\n",
    "           print(user.get('id'))\n",
    "               #print(“Bot ID for ‘” + user[‘name’] + “' is ” + user.get(‘id’))\n",
    "       else:\n",
    "           print('could not find bot user with the name ' + botname)"
   ]
  },
  {
   "cell_type": "code",
   "execution_count": null,
   "metadata": {
    "collapsed": true
   },
   "outputs": [],
   "source": []
  },
  {
   "cell_type": "code",
   "execution_count": null,
   "metadata": {
    "collapsed": true
   },
   "outputs": [],
   "source": []
  }
 ],
 "metadata": {
  "kernelspec": {
   "display_name": "Python 3",
   "language": "python",
   "name": "python3"
  },
  "language_info": {
   "codemirror_mode": {
    "name": "ipython",
    "version": 3
   },
   "file_extension": ".py",
   "mimetype": "text/x-python",
   "name": "python",
   "nbconvert_exporter": "python",
   "pygments_lexer": "ipython3",
   "version": "3.6.0"
  }
 },
 "nbformat": 4,
 "nbformat_minor": 2
}
